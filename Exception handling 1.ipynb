{
 "cells": [
  {
   "cell_type": "markdown",
   "id": "cd75afad",
   "metadata": {},
   "source": [
    "#### Q1. What is an exception in python ?what is the difference between Exceptions and syntax errors"
   ]
  },
  {
   "cell_type": "markdown",
   "id": "cd90fb7e",
   "metadata": {},
   "source": [
    "#### Exception :\n",
    "An exception is an event which occurs during the execution of a program disrupts the normal flow of instructions.It is a mechanism used to handle and manage errors and exceptional situations in Python programs.\n",
    "\n",
    "Exceptions can be raised explicitly by the programmer or can be raised automatically by the Python interpreter when an error or exceptional condition occurs. When an exception is raised, the normal flow of the program is interrupted, and Python searches for an exception handler to handle the exception.\n",
    "\n",
    "syntax errors are different from exceptions. A syntax error occurs when you write code that violates the rules of the Python language syntax. It indicates that the code is not written correctly and cannot be executed by the Python interpreter. Syntax errors are detected during the parsing phase, before the program is executed.\n",
    "\n",
    "##### differences between exceptions and syntax errors:\n",
    "\n",
    "1.Detection: Syntax errors are detected during the parsing phase when the code is being compiled, while exceptions are raised during the execution of the program when a specific error or exceptional condition occurs.\n",
    "\n",
    "2.Handling: Syntax errors cannot be handled programmatically because they prevent the code from being executed altogether. On the other hand, exceptions can be handled using exception handling mechanisms like try-except blocks. With exception handling, you can catch and handle exceptions , allowing the program to continue its execution even if an exception occurs.\n",
    "\n",
    "3.Impact: Syntax errors prevent the program from running successfully and must be fixed before the program can be executed. Exceptions, however, can be caught and handled, allowing the program to handle errors and exceptional situations without terminating abruptly."
   ]
  },
  {
   "cell_type": "markdown",
   "id": "eaf7b878",
   "metadata": {},
   "source": [
    "#### Q2.What happens when an exception is not handled ?Explain with an example."
   ]
  },
  {
   "cell_type": "markdown",
   "id": "62d979cc",
   "metadata": {},
   "source": [
    "When an exception is not handled in a Python program, it leads to an unhandled exception error, which causes the program to terminate .This means that the normal flow of the program is interrupted, and the error message associated with the unhandled exception is displayed on the console."
   ]
  },
  {
   "cell_type": "code",
   "execution_count": 2,
   "id": "94788fa6",
   "metadata": {},
   "outputs": [
    {
     "ename": "SyntaxError",
     "evalue": "invalid non-printable character U+00A0 (3444819862.py, line 9)",
     "output_type": "error",
     "traceback": [
      "\u001b[1;36m  Cell \u001b[1;32mIn[2], line 9\u001b[1;36m\u001b[0m\n\u001b[1;33m    print(\"The result is:\", result)\u001b[0m\n\u001b[1;37m                           ^\u001b[0m\n\u001b[1;31mSyntaxError\u001b[0m\u001b[1;31m:\u001b[0m invalid non-printable character U+00A0\n"
     ]
    }
   ],
   "source": [
    "def divide(a, b):\n",
    "    result = a / b\n",
    "    return result\n",
    "\n",
    "num1 = 10\n",
    "num2 = 0\n",
    "\n",
    "result = divide(num1, num2)\n",
    "print(\"The result is:\", result)"
   ]
  },
  {
   "cell_type": "markdown",
   "id": "f355f3a9",
   "metadata": {},
   "source": [
    "when an exception is not handled we will get errors as above."
   ]
  },
  {
   "cell_type": "markdown",
   "id": "352d4be8",
   "metadata": {},
   "source": [
    "#### Q3.Which python statements are used to catch and handle exceptions."
   ]
  },
  {
   "cell_type": "markdown",
   "id": "15353c9a",
   "metadata": {},
   "source": [
    "In Python, the try and except statements are used to handle exceptions and provide a mechanism for catching and handling specific types of exceptions"
   ]
  },
  {
   "cell_type": "code",
   "execution_count": 7,
   "id": "241b4578",
   "metadata": {},
   "outputs": [
    {
     "name": "stdout",
     "output_type": "stream",
     "text": [
      "Enter a number: 0\n",
      "Cannot divide by zero.\n",
      "End of program.\n"
     ]
    }
   ],
   "source": [
    "try:\n",
    "    num = int(input(\"Enter a number: \"))\n",
    "    result = 10 / num\n",
    "    print(\"Result:\", result)\n",
    "except ValueError:\n",
    "    print(\"Invalid input. Please enter a valid number.\")\n",
    "except ZeroDivisionError:\n",
    "    print(\"Cannot divide by zero.\")\n",
    "else:\n",
    "    print(\"No exception occurred.\")\n",
    "finally:\n",
    "    print(\"End of program.\")"
   ]
  },
  {
   "cell_type": "markdown",
   "id": "47b06f34",
   "metadata": {},
   "source": [
    "#### Q4. Explain with an example.\n",
    "#### a)try and else \n",
    "#### b)finally\n",
    "#### c)raise"
   ]
  },
  {
   "cell_type": "markdown",
   "id": "72adf31e",
   "metadata": {},
   "source": [
    "#### a) try, except, and else:\n",
    "The try statement is used to enclose a block of code that might raise an exception. If an exception occurs within the try block, it is caught and handled by the corresponding except block.If no exception occurs, the code within the else block is executed"
   ]
  },
  {
   "cell_type": "code",
   "execution_count": 3,
   "id": "f12b1324",
   "metadata": {},
   "outputs": [
    {
     "name": "stdout",
     "output_type": "stream",
     "text": [
      "Error: Division by zero\n"
     ]
    }
   ],
   "source": [
    "try:\n",
    "    x = 10 / 0  # This will raise a ZeroDivisionError\n",
    "except ZeroDivisionError:\n",
    "    print(\"Error: Division by zero\")\n",
    "else:\n",
    "    print(\"No error occurred\")"
   ]
  },
  {
   "cell_type": "markdown",
   "id": "6cb840a4",
   "metadata": {},
   "source": [
    "else block will execute iff try block executes."
   ]
  },
  {
   "cell_type": "markdown",
   "id": "def2323f",
   "metadata": {},
   "source": [
    "#### Q5. What are custom exceptions in python?why do we need custom exceptions?Explain with an example."
   ]
  },
  {
   "cell_type": "markdown",
   "id": "1b45260b",
   "metadata": {},
   "source": [
    "#### Custom exceptions:\n",
    "custom exceptions are user-defined exception classes that allow you to create and raise your own exceptions. These exceptions can be used to handle specific error conditions that are not covered by the built-in exception classes.\n",
    "\n",
    "#### Custom exceptions are useful in several ways:\n",
    "\n",
    "1.Specific Error Handling: Custom exceptions allow you to define and handle specific error conditions that are relevant to your application or domain. By creating custom exception classes, you can provide more meaningful error messages and handle exceptions in a more granular way.\n",
    "\n",
    "3.Exception Hierarchy: Custom exceptions can be derived from existing built-in exception classes or other custom exceptions, forming an exception hierarchy. This hierarchy helps in categorizing and handling exceptions at different levels of abstraction. It allows you to catch specific types of exceptions while still providing a catch-all option if needed.\n",
    "\n",
    "2.Code Organization: \n",
    "By defining custom exceptions, you can organize your code better and make it more readable. Custom exceptions provide a clear structure for handling different types of errors, making your code more maintainable and easier to understand.\n",
    "\n",
    "#### EX :"
   ]
  },
  {
   "cell_type": "code",
   "execution_count": 15,
   "id": "2f8bbf6c",
   "metadata": {},
   "outputs": [
    {
     "name": "stdout",
     "output_type": "stream",
     "text": [
      "Error: Value is too small!\n"
     ]
    }
   ],
   "source": [
    "class ValueTooSmallError(Exception):\n",
    "    pass\n",
    "\n",
    "def check_number(value):\n",
    "    if value < 10:\n",
    "        raise ValueTooSmallError(\"Value is too small!\")\n",
    "\n",
    "try:\n",
    "    number = 5\n",
    "    check_number(number)\n",
    "except ValueTooSmallError as e:\n",
    "    print(\"Error:\",e)"
   ]
  },
  {
   "cell_type": "markdown",
   "id": "da614d08",
   "metadata": {},
   "source": [
    "#### Q6.Create a custom exception class.Use this class to handle an exception."
   ]
  },
  {
   "cell_type": "code",
   "execution_count": 17,
   "id": "6f67bce6",
   "metadata": {},
   "outputs": [
    {
     "name": "stdout",
     "output_type": "stream",
     "text": [
      "Caught CustomException: This is a custom exception.\n"
     ]
    }
   ],
   "source": [
    "class CustomException(Exception):\n",
    "    def _init_(self, message):\n",
    "        self.message = message\n",
    "\n",
    "    def _str_(self):\n",
    "        return self.message\n",
    "\n",
    "try:\n",
    "    raise CustomException(\"This is a custom exception.\")\n",
    "except CustomException as e:\n",
    "    print(\"Caught CustomException:\",e)"
   ]
  },
  {
   "cell_type": "code",
   "execution_count": null,
   "id": "d80d48fd",
   "metadata": {},
   "outputs": [],
   "source": []
  }
 ],
 "metadata": {
  "kernelspec": {
   "display_name": "Python 3 (ipykernel)",
   "language": "python",
   "name": "python3"
  },
  "language_info": {
   "codemirror_mode": {
    "name": "ipython",
    "version": 3
   },
   "file_extension": ".py",
   "mimetype": "text/x-python",
   "name": "python",
   "nbconvert_exporter": "python",
   "pygments_lexer": "ipython3",
   "version": "3.11.2"
  }
 },
 "nbformat": 4,
 "nbformat_minor": 5
}
